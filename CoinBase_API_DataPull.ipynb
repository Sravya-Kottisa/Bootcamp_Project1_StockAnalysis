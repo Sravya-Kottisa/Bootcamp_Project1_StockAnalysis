{
 "cells": [
  {
   "cell_type": "code",
   "execution_count": 6,
   "id": "e931e253-f81c-4e00-bc2a-6e70bc6c6ef0",
   "metadata": {},
   "outputs": [],
   "source": [
    "import requests\n",
    "import pandas as pd\n",
    "import datetime\n",
    "import csv\n",
    "\n",
    "# Set API endpoint and parameters\n",
    "endpoint = \"https://api.coinbase.com/v2/prices/BTC-USD/historic\"\n",
    "params = {\n",
    "    \"start\": \"2024-01-01T00:00:00\",\n",
    "    \"end\": \"2024-01-31T23:59:59\",\n",
    "    \"granularity\": \"daily\"\n",
    "}\n",
    "\n",
    "# Set API key and headers\n",
    "api_key = \"API Key\"\n",
    "headers = {\n",
    "    \"CB-ACCESS-KEY\": api_key,\n",
    "   # \"CB-ACCESS-SIGN\": \"YOUR_API_SECRET\",\n",
    "  #  \"CB-ACCESS-TIMESTAMP\": \"YOUR_API_TIMESTAMP\",\n",
    "   # \"CB-ACCESS-PASSPHRASE\": \"YOUR_API_PASSPHRASE\"\n",
    "}\n",
    "\n",
    "# Make API request\n",
    "response = requests.get(endpoint, params=params, headers=headers)\n",
    "\n",
    "# Parse JSON response\n",
    "data = response.json()\n",
    "\n",
    "with open('bitcoin_historical_data2.csv', 'w', newline='') as csvfile:\n",
    "    writer = csv.writer(csvfile)\n",
    "    writer.writerow([\"time\", \"price\"])  # header row\n",
    "    for price in data['data']['prices']:\n",
    "        dt = datetime.datetime.fromtimestamp(int(price['time']))\n",
    "        writer.writerow([dt.strftime('%Y-%m-%d %H:%M:%S'), price['price']])"
   ]
  },
  {
   "cell_type": "code",
   "execution_count": null,
   "id": "410f7ecf-fa75-4da7-b48b-41e4deef3fe8",
   "metadata": {},
   "outputs": [],
   "source": []
  },
  {
   "cell_type": "code",
   "execution_count": null,
   "id": "6d7f9ca7-97bc-43f9-9abf-749eb0ad1485",
   "metadata": {},
   "outputs": [],
   "source": []
  },
  {
   "cell_type": "code",
   "execution_count": null,
   "id": "8c2dca28-75f0-42b0-9180-589faa98a380",
   "metadata": {},
   "outputs": [],
   "source": []
  }
 ],
 "metadata": {
  "kernelspec": {
   "display_name": "dev",
   "language": "python",
   "name": "dev"
  },
  "language_info": {
   "codemirror_mode": {
    "name": "ipython",
    "version": 3
   },
   "file_extension": ".py",
   "mimetype": "text/x-python",
   "name": "python",
   "nbconvert_exporter": "python",
   "pygments_lexer": "ipython3",
   "version": "3.11.7"
  }
 },
 "nbformat": 4,
 "nbformat_minor": 5
}
