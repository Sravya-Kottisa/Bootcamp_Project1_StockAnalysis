{
 "cells": [
  {
   "cell_type": "code",
   "execution_count": 1,
   "id": "1162af78-28c7-4313-9040-6475d2051940",
   "metadata": {},
   "outputs": [
    {
     "name": "stdout",
     "output_type": "stream",
     "text": [
      "Requirement already satisfied: prophet in /opt/anaconda3/lib/python3.11/site-packages (1.1.5)\n",
      "Requirement already satisfied: cmdstanpy>=1.0.4 in /opt/anaconda3/lib/python3.11/site-packages (from prophet) (1.2.2)\n",
      "Requirement already satisfied: numpy>=1.15.4 in /opt/anaconda3/lib/python3.11/site-packages (from prophet) (1.26.4)\n",
      "Requirement already satisfied: matplotlib>=2.0.0 in /opt/anaconda3/lib/python3.11/site-packages (from prophet) (3.8.0)\n",
      "Requirement already satisfied: pandas>=1.0.4 in /opt/anaconda3/lib/python3.11/site-packages (from prophet) (2.1.4)\n",
      "Requirement already satisfied: holidays>=0.25 in /opt/anaconda3/lib/python3.11/site-packages (from prophet) (0.47)\n",
      "Requirement already satisfied: tqdm>=4.36.1 in /opt/anaconda3/lib/python3.11/site-packages (from prophet) (4.65.0)\n",
      "Requirement already satisfied: importlib-resources in /opt/anaconda3/lib/python3.11/site-packages (from prophet) (6.4.0)\n",
      "Requirement already satisfied: stanio<2.0.0,>=0.4.0 in /opt/anaconda3/lib/python3.11/site-packages (from cmdstanpy>=1.0.4->prophet) (0.5.0)\n",
      "Requirement already satisfied: python-dateutil in /opt/anaconda3/lib/python3.11/site-packages (from holidays>=0.25->prophet) (2.8.2)\n",
      "Requirement already satisfied: contourpy>=1.0.1 in /opt/anaconda3/lib/python3.11/site-packages (from matplotlib>=2.0.0->prophet) (1.2.0)\n",
      "Requirement already satisfied: cycler>=0.10 in /opt/anaconda3/lib/python3.11/site-packages (from matplotlib>=2.0.0->prophet) (0.11.0)\n",
      "Requirement already satisfied: fonttools>=4.22.0 in /opt/anaconda3/lib/python3.11/site-packages (from matplotlib>=2.0.0->prophet) (4.25.0)\n",
      "Requirement already satisfied: kiwisolver>=1.0.1 in /opt/anaconda3/lib/python3.11/site-packages (from matplotlib>=2.0.0->prophet) (1.4.4)\n",
      "Requirement already satisfied: packaging>=20.0 in /opt/anaconda3/lib/python3.11/site-packages (from matplotlib>=2.0.0->prophet) (23.1)\n",
      "Requirement already satisfied: pillow>=6.2.0 in /opt/anaconda3/lib/python3.11/site-packages (from matplotlib>=2.0.0->prophet) (10.2.0)\n",
      "Requirement already satisfied: pyparsing>=2.3.1 in /opt/anaconda3/lib/python3.11/site-packages (from matplotlib>=2.0.0->prophet) (3.0.9)\n",
      "Requirement already satisfied: pytz>=2020.1 in /opt/anaconda3/lib/python3.11/site-packages (from pandas>=1.0.4->prophet) (2023.3.post1)\n",
      "Requirement already satisfied: tzdata>=2022.1 in /opt/anaconda3/lib/python3.11/site-packages (from pandas>=1.0.4->prophet) (2023.3)\n",
      "Requirement already satisfied: six>=1.5 in /opt/anaconda3/lib/python3.11/site-packages (from python-dateutil->holidays>=0.25->prophet) (1.16.0)\n"
     ]
    }
   ],
   "source": [
    "!pip install prophet\n",
    "\n",
    "import pandas as pd\n",
    "import datetime\n",
    "from prophet import Prophet\n",
    "import csv\n",
    "import time\n",
    "import os\n",
    "import matplotlib.pyplot as plt\n",
    "import numpy as np\n",
    "import json\n",
    "import requests"
   ]
  },
  {
   "cell_type": "code",
   "execution_count": 2,
   "id": "33967b52-ff21-4006-aa75-c895f4190296",
   "metadata": {},
   "outputs": [
    {
     "data": {
      "text/html": [
       "<div>\n",
       "<style scoped>\n",
       "    .dataframe tbody tr th:only-of-type {\n",
       "        vertical-align: middle;\n",
       "    }\n",
       "\n",
       "    .dataframe tbody tr th {\n",
       "        vertical-align: top;\n",
       "    }\n",
       "\n",
       "    .dataframe thead th {\n",
       "        text-align: right;\n",
       "    }\n",
       "</style>\n",
       "<table border=\"1\" class=\"dataframe\">\n",
       "  <thead>\n",
       "    <tr style=\"text-align: right;\">\n",
       "      <th></th>\n",
       "      <th>time</th>\n",
       "      <th>low</th>\n",
       "      <th>high</th>\n",
       "      <th>open</th>\n",
       "      <th>price</th>\n",
       "      <th>volume</th>\n",
       "    </tr>\n",
       "  </thead>\n",
       "  <tbody>\n",
       "    <tr>\n",
       "      <th>0</th>\n",
       "      <td>5/1/23 0:01</td>\n",
       "      <td>29266.93</td>\n",
       "      <td>29306.91</td>\n",
       "      <td>29271.12</td>\n",
       "      <td>29291.31</td>\n",
       "      <td>27.159674</td>\n",
       "    </tr>\n",
       "    <tr>\n",
       "      <th>1</th>\n",
       "      <td>5/1/23 0:02</td>\n",
       "      <td>29222.49</td>\n",
       "      <td>29288.80</td>\n",
       "      <td>29288.80</td>\n",
       "      <td>29230.60</td>\n",
       "      <td>23.527361</td>\n",
       "    </tr>\n",
       "    <tr>\n",
       "      <th>2</th>\n",
       "      <td>5/1/23 0:03</td>\n",
       "      <td>29222.22</td>\n",
       "      <td>29283.42</td>\n",
       "      <td>29223.02</td>\n",
       "      <td>29283.42</td>\n",
       "      <td>5.916361</td>\n",
       "    </tr>\n",
       "    <tr>\n",
       "      <th>3</th>\n",
       "      <td>5/1/23 0:04</td>\n",
       "      <td>29278.99</td>\n",
       "      <td>29313.48</td>\n",
       "      <td>29281.92</td>\n",
       "      <td>29308.98</td>\n",
       "      <td>13.063029</td>\n",
       "    </tr>\n",
       "    <tr>\n",
       "      <th>4</th>\n",
       "      <td>5/1/23 0:05</td>\n",
       "      <td>29294.21</td>\n",
       "      <td>29315.54</td>\n",
       "      <td>29311.53</td>\n",
       "      <td>29302.16</td>\n",
       "      <td>4.793581</td>\n",
       "    </tr>\n",
       "  </tbody>\n",
       "</table>\n",
       "</div>"
      ],
      "text/plain": [
       "          time       low      high      open     price     volume\n",
       "0  5/1/23 0:01  29266.93  29306.91  29271.12  29291.31  27.159674\n",
       "1  5/1/23 0:02  29222.49  29288.80  29288.80  29230.60  23.527361\n",
       "2  5/1/23 0:03  29222.22  29283.42  29223.02  29283.42   5.916361\n",
       "3  5/1/23 0:04  29278.99  29313.48  29281.92  29308.98  13.063029\n",
       "4  5/1/23 0:05  29294.21  29315.54  29311.53  29302.16   4.793581"
      ]
     },
     "metadata": {},
     "output_type": "display_data"
    },
    {
     "data": {
      "text/html": [
       "<div>\n",
       "<style scoped>\n",
       "    .dataframe tbody tr th:only-of-type {\n",
       "        vertical-align: middle;\n",
       "    }\n",
       "\n",
       "    .dataframe tbody tr th {\n",
       "        vertical-align: top;\n",
       "    }\n",
       "\n",
       "    .dataframe thead th {\n",
       "        text-align: right;\n",
       "    }\n",
       "</style>\n",
       "<table border=\"1\" class=\"dataframe\">\n",
       "  <thead>\n",
       "    <tr style=\"text-align: right;\">\n",
       "      <th></th>\n",
       "      <th>time</th>\n",
       "      <th>low</th>\n",
       "      <th>high</th>\n",
       "      <th>open</th>\n",
       "      <th>price</th>\n",
       "      <th>volume</th>\n",
       "    </tr>\n",
       "  </thead>\n",
       "  <tbody>\n",
       "    <tr>\n",
       "      <th>540175</th>\n",
       "      <td>5/10/24 4:16</td>\n",
       "      <td>62837.87</td>\n",
       "      <td>62850.88</td>\n",
       "      <td>62837.87</td>\n",
       "      <td>62844.02</td>\n",
       "      <td>1.209760</td>\n",
       "    </tr>\n",
       "    <tr>\n",
       "      <th>540176</th>\n",
       "      <td>5/10/24 4:17</td>\n",
       "      <td>62843.42</td>\n",
       "      <td>62866.73</td>\n",
       "      <td>62844.02</td>\n",
       "      <td>62865.37</td>\n",
       "      <td>1.769804</td>\n",
       "    </tr>\n",
       "    <tr>\n",
       "      <th>540177</th>\n",
       "      <td>5/10/24 4:18</td>\n",
       "      <td>62864.83</td>\n",
       "      <td>62920.09</td>\n",
       "      <td>62865.37</td>\n",
       "      <td>62916.31</td>\n",
       "      <td>2.423882</td>\n",
       "    </tr>\n",
       "    <tr>\n",
       "      <th>540178</th>\n",
       "      <td>5/10/24 4:19</td>\n",
       "      <td>62905.94</td>\n",
       "      <td>62923.86</td>\n",
       "      <td>62916.10</td>\n",
       "      <td>62918.34</td>\n",
       "      <td>1.107465</td>\n",
       "    </tr>\n",
       "    <tr>\n",
       "      <th>540179</th>\n",
       "      <td>5/10/24 4:20</td>\n",
       "      <td>62916.08</td>\n",
       "      <td>62936.86</td>\n",
       "      <td>62916.08</td>\n",
       "      <td>62936.86</td>\n",
       "      <td>1.439415</td>\n",
       "    </tr>\n",
       "  </tbody>\n",
       "</table>\n",
       "</div>"
      ],
      "text/plain": [
       "                time       low      high      open     price    volume\n",
       "540175  5/10/24 4:16  62837.87  62850.88  62837.87  62844.02  1.209760\n",
       "540176  5/10/24 4:17  62843.42  62866.73  62844.02  62865.37  1.769804\n",
       "540177  5/10/24 4:18  62864.83  62920.09  62865.37  62916.31  2.423882\n",
       "540178  5/10/24 4:19  62905.94  62923.86  62916.10  62918.34  1.107465\n",
       "540179  5/10/24 4:20  62916.08  62936.86  62916.08  62936.86  1.439415"
      ]
     },
     "metadata": {},
     "output_type": "display_data"
    }
   ],
   "source": [
    "# import Bitcoin (BTC) 1 year csv file\n",
    "\n",
    "btc_df_year = pd.read_csv('BTC_1Year_Data.csv')\n",
    "\n",
    "btc_df_year.rename(columns={'close': 'price'}, inplace=True) \n",
    "\n",
    "display(btc_df_year.head(5))\n",
    "display(btc_df_year.tail(5))"
   ]
  },
  {
   "cell_type": "code",
   "execution_count": 3,
   "id": "90ff5e36-2655-475b-98a8-57ae3432d856",
   "metadata": {},
   "outputs": [
    {
     "name": "stderr",
     "output_type": "stream",
     "text": [
      "/var/folders/sb/3cvttk6j78s7j3dzy77nkw140000gn/T/ipykernel_1559/610051821.py:3: UserWarning: Could not infer format, so each element will be parsed individually, falling back to `dateutil`. To ensure parsing is consistent and as-expected, please specify a format.\n",
      "  btc_df_year['time'] = pd.to_datetime(btc_df_year['time'])\n"
     ]
    },
    {
     "data": {
      "text/html": [
       "<div>\n",
       "<style scoped>\n",
       "    .dataframe tbody tr th:only-of-type {\n",
       "        vertical-align: middle;\n",
       "    }\n",
       "\n",
       "    .dataframe tbody tr th {\n",
       "        vertical-align: top;\n",
       "    }\n",
       "\n",
       "    .dataframe thead th {\n",
       "        text-align: right;\n",
       "    }\n",
       "</style>\n",
       "<table border=\"1\" class=\"dataframe\">\n",
       "  <thead>\n",
       "    <tr style=\"text-align: right;\">\n",
       "      <th></th>\n",
       "      <th>low</th>\n",
       "      <th>high</th>\n",
       "      <th>open</th>\n",
       "      <th>price</th>\n",
       "      <th>volume</th>\n",
       "    </tr>\n",
       "    <tr>\n",
       "      <th>time</th>\n",
       "      <th></th>\n",
       "      <th></th>\n",
       "      <th></th>\n",
       "      <th></th>\n",
       "      <th></th>\n",
       "    </tr>\n",
       "  </thead>\n",
       "  <tbody>\n",
       "    <tr>\n",
       "      <th>2023-05-01 00:01:00</th>\n",
       "      <td>29266.93</td>\n",
       "      <td>29306.91</td>\n",
       "      <td>29271.12</td>\n",
       "      <td>29291.31</td>\n",
       "      <td>27.159674</td>\n",
       "    </tr>\n",
       "    <tr>\n",
       "      <th>2023-05-01 00:02:00</th>\n",
       "      <td>29222.49</td>\n",
       "      <td>29288.80</td>\n",
       "      <td>29288.80</td>\n",
       "      <td>29230.60</td>\n",
       "      <td>23.527361</td>\n",
       "    </tr>\n",
       "    <tr>\n",
       "      <th>2023-05-01 00:03:00</th>\n",
       "      <td>29222.22</td>\n",
       "      <td>29283.42</td>\n",
       "      <td>29223.02</td>\n",
       "      <td>29283.42</td>\n",
       "      <td>5.916361</td>\n",
       "    </tr>\n",
       "    <tr>\n",
       "      <th>2023-05-01 00:04:00</th>\n",
       "      <td>29278.99</td>\n",
       "      <td>29313.48</td>\n",
       "      <td>29281.92</td>\n",
       "      <td>29308.98</td>\n",
       "      <td>13.063029</td>\n",
       "    </tr>\n",
       "    <tr>\n",
       "      <th>2023-05-01 00:05:00</th>\n",
       "      <td>29294.21</td>\n",
       "      <td>29315.54</td>\n",
       "      <td>29311.53</td>\n",
       "      <td>29302.16</td>\n",
       "      <td>4.793581</td>\n",
       "    </tr>\n",
       "  </tbody>\n",
       "</table>\n",
       "</div>"
      ],
      "text/plain": [
       "                          low      high      open     price     volume\n",
       "time                                                                  \n",
       "2023-05-01 00:01:00  29266.93  29306.91  29271.12  29291.31  27.159674\n",
       "2023-05-01 00:02:00  29222.49  29288.80  29288.80  29230.60  23.527361\n",
       "2023-05-01 00:03:00  29222.22  29283.42  29223.02  29283.42   5.916361\n",
       "2023-05-01 00:04:00  29278.99  29313.48  29281.92  29308.98  13.063029\n",
       "2023-05-01 00:05:00  29294.21  29315.54  29311.53  29302.16   4.793581"
      ]
     },
     "execution_count": 3,
     "metadata": {},
     "output_type": "execute_result"
    }
   ],
   "source": [
    "# Plot the \"price\" data for btc using \"time\" as the x-axis \n",
    "\n",
    "btc_df_year['time'] = pd.to_datetime(btc_df_year['time'])\n",
    "\n",
    "btc_df_year.set_index(\"time\", inplace = True)\n",
    "\n",
    "btc_df_year.head()"
   ]
  },
  {
   "cell_type": "code",
   "execution_count": 4,
   "id": "f41a4c3c-a420-414f-8c59-eebb6bfe5679",
   "metadata": {},
   "outputs": [
    {
     "data": {
      "image/png": "[encoded data removed]",
      "text/plain": [
       "<Figure size 1600x400 with 1 Axes>"
      ]
     },
     "metadata": {},
     "output_type": "display_data"
    }
   ],
   "source": [
    "plt.figure(figsize=(16, 4))\n",
    "plt.plot(btc_df_year['price'])\n",
    "plt.title(\"Bitcoin Close Prices Over Time\")\n",
    "plt.xlabel(\"Time\")\n",
    "plt.ylabel(\"Price\")\n",
    "plt.xticks(rotation=45)\n",
    "plt.show()"
   ]
  },
  {
   "cell_type": "code",
   "execution_count": 5,
   "id": "19d40e06-2c24-4cb9-971a-3db99f2dfd65",
   "metadata": {},
   "outputs": [
    {
     "data": {
      "text/html": [
       "<div>\n",
       "<style scoped>\n",
       "    .dataframe tbody tr th:only-of-type {\n",
       "        vertical-align: middle;\n",
       "    }\n",
       "\n",
       "    .dataframe tbody tr th {\n",
       "        vertical-align: top;\n",
       "    }\n",
       "\n",
       "    .dataframe thead th {\n",
       "        text-align: right;\n",
       "    }\n",
       "</style>\n",
       "<table border=\"1\" class=\"dataframe\">\n",
       "  <thead>\n",
       "    <tr style=\"text-align: right;\">\n",
       "      <th></th>\n",
       "      <th>time</th>\n",
       "      <th>price</th>\n",
       "    </tr>\n",
       "  </thead>\n",
       "  <tbody>\n",
       "    <tr>\n",
       "      <th>0</th>\n",
       "      <td>2023-05-01 00:01:00</td>\n",
       "      <td>29291.31</td>\n",
       "    </tr>\n",
       "    <tr>\n",
       "      <th>1</th>\n",
       "      <td>2023-05-01 00:02:00</td>\n",
       "      <td>29230.60</td>\n",
       "    </tr>\n",
       "    <tr>\n",
       "      <th>2</th>\n",
       "      <td>2023-05-01 00:03:00</td>\n",
       "      <td>29283.42</td>\n",
       "    </tr>\n",
       "    <tr>\n",
       "      <th>3</th>\n",
       "      <td>2023-05-01 00:04:00</td>\n",
       "      <td>29308.98</td>\n",
       "    </tr>\n",
       "    <tr>\n",
       "      <th>4</th>\n",
       "      <td>2023-05-01 00:05:00</td>\n",
       "      <td>29302.16</td>\n",
       "    </tr>\n",
       "  </tbody>\n",
       "</table>\n",
       "</div>"
      ],
      "text/plain": [
       "                 time     price\n",
       "0 2023-05-01 00:01:00  29291.31\n",
       "1 2023-05-01 00:02:00  29230.60\n",
       "2 2023-05-01 00:03:00  29283.42\n",
       "3 2023-05-01 00:04:00  29308.98\n",
       "4 2023-05-01 00:05:00  29302.16"
      ]
     },
     "metadata": {},
     "output_type": "display_data"
    }
   ],
   "source": [
    "# Make a new dataframe that contains \"time\", \"price\" for Bitcoin\n",
    "\n",
    "btc_df_year_index_reset = btc_df_year.reset_index()\n",
    "\n",
    "prophet_btc_df_year = btc_df_year_index_reset[[\"time\", \"price\"]]\n",
    "\n",
    "# prophet_btc_df.set_index(\"time\", inplace = True)\n",
    "\n",
    "display(prophet_btc_df_year.head())"
   ]
  },
  {
   "cell_type": "code",
   "execution_count": 6,
   "id": "4d98af9b-7433-4057-9901-c41bf2e57663",
   "metadata": {},
   "outputs": [
    {
     "data": {
      "text/html": [
       "<div>\n",
       "<style scoped>\n",
       "    .dataframe tbody tr th:only-of-type {\n",
       "        vertical-align: middle;\n",
       "    }\n",
       "\n",
       "    .dataframe tbody tr th {\n",
       "        vertical-align: top;\n",
       "    }\n",
       "\n",
       "    .dataframe thead th {\n",
       "        text-align: right;\n",
       "    }\n",
       "</style>\n",
       "<table border=\"1\" class=\"dataframe\">\n",
       "  <thead>\n",
       "    <tr style=\"text-align: right;\">\n",
       "      <th></th>\n",
       "      <th>ds</th>\n",
       "      <th>y</th>\n",
       "    </tr>\n",
       "  </thead>\n",
       "  <tbody>\n",
       "    <tr>\n",
       "      <th>0</th>\n",
       "      <td>2023-05-01 00:01:00</td>\n",
       "      <td>29291.31</td>\n",
       "    </tr>\n",
       "    <tr>\n",
       "      <th>1</th>\n",
       "      <td>2023-05-01 00:02:00</td>\n",
       "      <td>29230.60</td>\n",
       "    </tr>\n",
       "    <tr>\n",
       "      <th>2</th>\n",
       "      <td>2023-05-01 00:03:00</td>\n",
       "      <td>29283.42</td>\n",
       "    </tr>\n",
       "    <tr>\n",
       "      <th>3</th>\n",
       "      <td>2023-05-01 00:04:00</td>\n",
       "      <td>29308.98</td>\n",
       "    </tr>\n",
       "    <tr>\n",
       "      <th>4</th>\n",
       "      <td>2023-05-01 00:05:00</td>\n",
       "      <td>29302.16</td>\n",
       "    </tr>\n",
       "  </tbody>\n",
       "</table>\n",
       "</div>"
      ],
      "text/plain": [
       "                   ds         y\n",
       "0 2023-05-01 00:01:00  29291.31\n",
       "1 2023-05-01 00:02:00  29230.60\n",
       "2 2023-05-01 00:03:00  29283.42\n",
       "3 2023-05-01 00:04:00  29308.98\n",
       "4 2023-05-01 00:05:00  29302.16"
      ]
     },
     "execution_count": 6,
     "metadata": {},
     "output_type": "execute_result"
    }
   ],
   "source": [
    "# Prepare the btc data for Prophet\n",
    "\n",
    "prophet_btc_df_year.columns = [\"ds\", \"y\"]\n",
    "\n",
    "prophet_btc_df_year = prophet_btc_df_year.dropna()\n",
    "\n",
    "prophet_btc_df_year.head()\n"
   ]
  },
  {
   "cell_type": "code",
   "execution_count": 7,
   "id": "1f110e68-c784-454d-9764-d5282b09f847",
   "metadata": {},
   "outputs": [
    {
     "data": {
      "text/plain": [
       "<prophet.forecaster.Prophet at 0x14bbf5a50>"
      ]
     },
     "execution_count": 7,
     "metadata": {},
     "output_type": "execute_result"
    }
   ],
   "source": [
    "btc_year_prophet = Prophet()\n",
    "\n",
    "btc_year_prophet"
   ]
  },
  {
   "cell_type": "code",
   "execution_count": 8,
   "id": "2c0045b0-3cc3-4e4d-8125-aa482ab9facb",
   "metadata": {},
   "outputs": [
    {
     "name": "stderr",
     "output_type": "stream",
     "text": [
      "17:24:12 - cmdstanpy - INFO - Chain [1] start processing\n",
      "17:26:21 - cmdstanpy - INFO - Chain [1] done processing\n"
     ]
    },
    {
     "data": {
      "text/plain": [
       "<prophet.forecaster.Prophet at 0x14bbf5a50>"
      ]
     },
     "execution_count": 8,
     "metadata": {},
     "output_type": "execute_result"
    }
   ],
   "source": [
    "btc_year_prophet.fit(prophet_btc_df_year)"
   ]
  },
  {
   "cell_type": "code",
   "execution_count": 9,
   "id": "d2377ab6-3fca-405f-8b3c-52e297daa604",
   "metadata": {},
   "outputs": [
    {
     "data": {
      "text/html": [
       "<div>\n",
       "<style scoped>\n",
       "    .dataframe tbody tr th:only-of-type {\n",
       "        vertical-align: middle;\n",
       "    }\n",
       "\n",
       "    .dataframe tbody tr th {\n",
       "        vertical-align: top;\n",
       "    }\n",
       "\n",
       "    .dataframe thead th {\n",
       "        text-align: right;\n",
       "    }\n",
       "</style>\n",
       "<table border=\"1\" class=\"dataframe\">\n",
       "  <thead>\n",
       "    <tr style=\"text-align: right;\">\n",
       "      <th></th>\n",
       "      <th>ds</th>\n",
       "    </tr>\n",
       "  </thead>\n",
       "  <tbody>\n",
       "    <tr>\n",
       "      <th>0</th>\n",
       "      <td>2023-05-01 00:01:00</td>\n",
       "    </tr>\n",
       "    <tr>\n",
       "      <th>1</th>\n",
       "      <td>2023-05-01 00:02:00</td>\n",
       "    </tr>\n",
       "    <tr>\n",
       "      <th>2</th>\n",
       "      <td>2023-05-01 00:03:00</td>\n",
       "    </tr>\n",
       "    <tr>\n",
       "      <th>3</th>\n",
       "      <td>2023-05-01 00:04:00</td>\n",
       "    </tr>\n",
       "    <tr>\n",
       "      <th>4</th>\n",
       "      <td>2023-05-01 00:05:00</td>\n",
       "    </tr>\n",
       "  </tbody>\n",
       "</table>\n",
       "</div>"
      ],
      "text/plain": [
       "                   ds\n",
       "0 2023-05-01 00:01:00\n",
       "1 2023-05-01 00:02:00\n",
       "2 2023-05-01 00:03:00\n",
       "3 2023-05-01 00:04:00\n",
       "4 2023-05-01 00:05:00"
      ]
     },
     "execution_count": 9,
     "metadata": {},
     "output_type": "execute_result"
    }
   ],
   "source": [
    "btc_year_future = btc_year_prophet.make_future_dataframe(periods = 72, freq = 'H')\n",
    "btc_year_future.head()"
   ]
  },
  {
   "cell_type": "code",
   "execution_count": null,
   "id": "05b71d55-9ebf-417f-9c64-15f52dd38a81",
   "metadata": {},
   "outputs": [],
   "source": [
    "btc_year_forecast = btc_year_prophet.predict(btc_year_future)\n",
    "display(btc_year_forecast.head())\n",
    "display(btc_year_forecast.tail())\n"
   ]
  },
  {
   "cell_type": "code",
   "execution_count": null,
   "id": "d0b702f7-2e9e-461a-92ed-cfcc4a2f8cf3",
   "metadata": {},
   "outputs": [],
   "source": [
    "btc_yhat_df = btc_year_forecast[[\"ds\", \"yhat\"]]\n",
    "\n",
    "plt.figure(figsize=(16, 4))\n",
    "plt.plot(btc_yhat_df['ds'], btc_yhat_df['yhat'], label='Predicted yhat Price')\n",
    "plt.title('Bitcoin yhat Price Prediction')\n",
    "plt.xlabel('Date')\n",
    "plt.ylabel('Predicted Price')\n",
    "plt.grid(True)\n",
    "plt.legend()\n",
    "plt.show()\n",
    "\n",
    "btc_trend_df = btc_year_forecast[[\"ds\", \"trend\"]]\n",
    "\n",
    "plt.figure(figsize=(16, 4))\n",
    "plt.plot(btc_trend_df['ds'], btc_trend_df['trend'], label='Predicted Trend Price')\n",
    "plt.title('Bitcoin Trend Price Prediction')\n",
    "plt.xlabel('Date')\n",
    "plt.ylabel('Predicted Price')\n",
    "plt.grid(True)\n",
    "plt.legend()\n",
    "plt.show()"
   ]
  }
 ],
 "metadata": {
  "kernelspec": {
   "display_name": "Python 3 (ipykernel)",
   "language": "python",
   "name": "python3"
  },
  "language_info": {
   "codemirror_mode": {
    "name": "ipython",
    "version": 3
   },
   "file_extension": ".py",
   "mimetype": "text/x-python",
   "name": "python",
   "nbconvert_exporter": "python",
   "pygments_lexer": "ipython3",
   "version": "3.11.7"
  }
 },
 "nbformat": 4,
 "nbformat_minor": 5
}
