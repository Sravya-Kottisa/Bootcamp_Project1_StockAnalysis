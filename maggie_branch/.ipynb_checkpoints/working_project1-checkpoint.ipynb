{
 "cells": [
  {
   "cell_type": "code",
   "execution_count": 1,
   "id": "e931e253-f81c-4e00-bc2a-6e70bc6c6ef0",
   "metadata": {},
   "outputs": [
    {
     "name": "stdout",
     "output_type": "stream",
     "text": [
      "Collecting Historic-Crypto\n",
      "  Using cached Historic_Crypto-0.1.6-py3-none-any.whl.metadata (3.8 kB)\n",
      "Requirement already satisfied: numpy in /opt/anaconda3/lib/python3.11/site-packages (from Historic-Crypto) (1.26.4)\n",
      "Requirement already satisfied: requests in /opt/anaconda3/lib/python3.11/site-packages (from Historic-Crypto) (2.31.0)\n",
      "Requirement already satisfied: charset-normalizer<4,>=2 in /opt/anaconda3/lib/python3.11/site-packages (from requests->Historic-Crypto) (2.0.4)\n",
      "Requirement already satisfied: idna<4,>=2.5 in /opt/anaconda3/lib/python3.11/site-packages (from requests->Historic-Crypto) (3.4)\n",
      "Requirement already satisfied: urllib3<3,>=1.21.1 in /opt/anaconda3/lib/python3.11/site-packages (from requests->Historic-Crypto) (2.0.7)\n",
      "Requirement already satisfied: certifi>=2017.4.17 in /opt/anaconda3/lib/python3.11/site-packages (from requests->Historic-Crypto) (2024.2.2)\n",
      "Using cached Historic_Crypto-0.1.6-py3-none-any.whl (8.8 kB)\n",
      "Installing collected packages: Historic-Crypto\n",
      "Successfully installed Historic-Crypto-0.1.6\n"
     ]
    }
   ],
   "source": [
    "!pip install Historic-Crypto\n",
    "\n",
    "import requests\n",
    "import pandas as pd\n",
    "import datetime\n",
    "import csv\n",
    "import time\n",
    "import os\n",
    "import matplotlib.pyplot as plt\n",
    "import numpy as np\n",
    "import json\n"
   ]
  },
  {
   "cell_type": "code",
   "execution_count": 3,
   "id": "410f7ecf-fa75-4da7-b48b-41e4deef3fe8",
   "metadata": {},
   "outputs": [
    {
     "data": {
      "text/html": [
       "<div>\n",
       "<style scoped>\n",
       "    .dataframe tbody tr th:only-of-type {\n",
       "        vertical-align: middle;\n",
       "    }\n",
       "\n",
       "    .dataframe tbody tr th {\n",
       "        vertical-align: top;\n",
       "    }\n",
       "\n",
       "    .dataframe thead th {\n",
       "        text-align: right;\n",
       "    }\n",
       "</style>\n",
       "<table border=\"1\" class=\"dataframe\">\n",
       "  <thead>\n",
       "    <tr style=\"text-align: right;\">\n",
       "      <th></th>\n",
       "      <th>time</th>\n",
       "      <th>low</th>\n",
       "      <th>high</th>\n",
       "      <th>open</th>\n",
       "      <th>close</th>\n",
       "      <th>volume</th>\n",
       "    </tr>\n",
       "  </thead>\n",
       "  <tbody>\n",
       "    <tr>\n",
       "      <th>0</th>\n",
       "      <td>3/1/24 0:01</td>\n",
       "      <td>61198.23</td>\n",
       "      <td>61262.87</td>\n",
       "      <td>61231.04</td>\n",
       "      <td>61223.70</td>\n",
       "      <td>11.717932</td>\n",
       "    </tr>\n",
       "    <tr>\n",
       "      <th>1</th>\n",
       "      <td>3/1/24 0:02</td>\n",
       "      <td>61171.85</td>\n",
       "      <td>61242.48</td>\n",
       "      <td>61220.93</td>\n",
       "      <td>61181.05</td>\n",
       "      <td>6.297077</td>\n",
       "    </tr>\n",
       "    <tr>\n",
       "      <th>2</th>\n",
       "      <td>3/1/24 0:03</td>\n",
       "      <td>61164.46</td>\n",
       "      <td>61223.75</td>\n",
       "      <td>61182.59</td>\n",
       "      <td>61203.46</td>\n",
       "      <td>6.590603</td>\n",
       "    </tr>\n",
       "    <tr>\n",
       "      <th>3</th>\n",
       "      <td>3/1/24 0:04</td>\n",
       "      <td>61164.00</td>\n",
       "      <td>61213.96</td>\n",
       "      <td>61203.46</td>\n",
       "      <td>61168.70</td>\n",
       "      <td>5.766950</td>\n",
       "    </tr>\n",
       "    <tr>\n",
       "      <th>4</th>\n",
       "      <td>3/1/24 0:05</td>\n",
       "      <td>61164.07</td>\n",
       "      <td>61272.51</td>\n",
       "      <td>61164.07</td>\n",
       "      <td>61260.85</td>\n",
       "      <td>9.351544</td>\n",
       "    </tr>\n",
       "  </tbody>\n",
       "</table>\n",
       "</div>"
      ],
      "text/plain": [
       "          time       low      high      open     close     volume\n",
       "0  3/1/24 0:01  61198.23  61262.87  61231.04  61223.70  11.717932\n",
       "1  3/1/24 0:02  61171.85  61242.48  61220.93  61181.05   6.297077\n",
       "2  3/1/24 0:03  61164.46  61223.75  61182.59  61203.46   6.590603\n",
       "3  3/1/24 0:04  61164.00  61213.96  61203.46  61168.70   5.766950\n",
       "4  3/1/24 0:05  61164.07  61272.51  61164.07  61260.85   9.351544"
      ]
     },
     "execution_count": 3,
     "metadata": {},
     "output_type": "execute_result"
    }
   ],
   "source": [
    "# import csv files\n",
    "\n",
    "btc_df = pd.read_csv('BTC_Data.csv')\n",
    "# eth_df = pd.read_csv('ETH_Data.csv')\n",
    "# doge_df = pd.read_csv('DOGE_Data.csv')\n",
    "\n",
    "btc_df.head(5)"
   ]
  },
  {
   "cell_type": "code",
   "execution_count": null,
   "id": "6d7f9ca7-97bc-43f9-9abf-749eb0ad1485",
   "metadata": {},
   "outputs": [],
   "source": []
  },
  {
   "cell_type": "code",
   "execution_count": null,
   "id": "8c2dca28-75f0-42b0-9180-589faa98a380",
   "metadata": {},
   "outputs": [],
   "source": []
  }
 ],
 "metadata": {
  "kernelspec": {
   "display_name": "dev",
   "language": "python",
   "name": "dev"
  },
  "language_info": {
   "codemirror_mode": {
    "name": "ipython",
    "version": 3
   },
   "file_extension": ".py",
   "mimetype": "text/x-python",
   "name": "python",
   "nbconvert_exporter": "python",
   "pygments_lexer": "ipython3",
   "version": "3.10.13"
  }
 },
 "nbformat": 4,
 "nbformat_minor": 5
}
