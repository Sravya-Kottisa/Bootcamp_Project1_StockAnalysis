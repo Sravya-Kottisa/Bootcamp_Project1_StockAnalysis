{
 "cells": [
  {
   "cell_type": "code",
   "execution_count": 1,
   "id": "2cca6251-a128-437b-91be-7ef06f3ab165",
   "metadata": {},
   "outputs": [],
   "source": [
    "#Notes:\n",
    "# extract graph images to send to group in slack"
   ]
  },
  {
   "cell_type": "code",
   "execution_count": 2,
   "id": "e931e253-f81c-4e00-bc2a-6e70bc6c6ef0",
   "metadata": {},
   "outputs": [
    {
     "name": "stdout",
     "output_type": "stream",
     "text": [
      "Requirement already satisfied: prophet in /opt/anaconda3/lib/python3.11/site-packages (1.1.5)\n",
      "Requirement already satisfied: cmdstanpy>=1.0.4 in /opt/anaconda3/lib/python3.11/site-packages (from prophet) (1.2.2)\n",
      "Requirement already satisfied: numpy>=1.15.4 in /opt/anaconda3/lib/python3.11/site-packages (from prophet) (1.26.4)\n",
      "Requirement already satisfied: matplotlib>=2.0.0 in /opt/anaconda3/lib/python3.11/site-packages (from prophet) (3.8.0)\n",
      "Requirement already satisfied: pandas>=1.0.4 in /opt/anaconda3/lib/python3.11/site-packages (from prophet) (2.1.4)\n",
      "Requirement already satisfied: holidays>=0.25 in /opt/anaconda3/lib/python3.11/site-packages (from prophet) (0.47)\n",
      "Requirement already satisfied: tqdm>=4.36.1 in /opt/anaconda3/lib/python3.11/site-packages (from prophet) (4.65.0)\n",
      "Requirement already satisfied: importlib-resources in /opt/anaconda3/lib/python3.11/site-packages (from prophet) (6.4.0)\n",
      "Requirement already satisfied: stanio<2.0.0,>=0.4.0 in /opt/anaconda3/lib/python3.11/site-packages (from cmdstanpy>=1.0.4->prophet) (0.5.0)\n",
      "Requirement already satisfied: python-dateutil in /opt/anaconda3/lib/python3.11/site-packages (from holidays>=0.25->prophet) (2.8.2)\n",
      "Requirement already satisfied: contourpy>=1.0.1 in /opt/anaconda3/lib/python3.11/site-packages (from matplotlib>=2.0.0->prophet) (1.2.0)\n",
      "Requirement already satisfied: cycler>=0.10 in /opt/anaconda3/lib/python3.11/site-packages (from matplotlib>=2.0.0->prophet) (0.11.0)\n",
      "Requirement already satisfied: fonttools>=4.22.0 in /opt/anaconda3/lib/python3.11/site-packages (from matplotlib>=2.0.0->prophet) (4.25.0)\n",
      "Requirement already satisfied: kiwisolver>=1.0.1 in /opt/anaconda3/lib/python3.11/site-packages (from matplotlib>=2.0.0->prophet) (1.4.4)\n",
      "Requirement already satisfied: packaging>=20.0 in /opt/anaconda3/lib/python3.11/site-packages (from matplotlib>=2.0.0->prophet) (23.1)\n",
      "Requirement already satisfied: pillow>=6.2.0 in /opt/anaconda3/lib/python3.11/site-packages (from matplotlib>=2.0.0->prophet) (10.2.0)\n",
      "Requirement already satisfied: pyparsing>=2.3.1 in /opt/anaconda3/lib/python3.11/site-packages (from matplotlib>=2.0.0->prophet) (3.0.9)\n",
      "Requirement already satisfied: pytz>=2020.1 in /opt/anaconda3/lib/python3.11/site-packages (from pandas>=1.0.4->prophet) (2023.3.post1)\n",
      "Requirement already satisfied: tzdata>=2022.1 in /opt/anaconda3/lib/python3.11/site-packages (from pandas>=1.0.4->prophet) (2023.3)\n",
      "Requirement already satisfied: six>=1.5 in /opt/anaconda3/lib/python3.11/site-packages (from python-dateutil->holidays>=0.25->prophet) (1.16.0)\n"
     ]
    }
   ],
   "source": [
    "!pip install prophet\n",
    "\n",
    "import pandas as pd\n",
    "import datetime\n",
    "from prophet import Prophet\n",
    "import csv\n",
    "import time\n",
    "import os\n",
    "import matplotlib.pyplot as plt\n",
    "import numpy as np\n",
    "import json\n",
    "import requests"
   ]
  },
  {
   "cell_type": "code",
   "execution_count": 3,
   "id": "410f7ecf-fa75-4da7-b48b-41e4deef3fe8",
   "metadata": {},
   "outputs": [],
   "source": [
    "# import Bitcoin (BTC), Ethereum (ETH), and Dogecoin (DOGE) csv files\n",
    "\n",
    "btc_df = pd.read_csv('CSV_files/BTC_Data.csv')\n",
    "eth_df = pd.read_csv('CSV_files/ETH_Data.csv')\n",
    "doge_df = pd.read_csv('CSV_files/DOGE_Data.csv')\n",
    "\n",
    "btc_year_df = pd.read_csv('CSV_files/BTC_1Year_Data.csv')\n",
    "eth_year_df = pd.read_csv('CSV_files/ETH_1Year_Data.csv')\n",
    "doge_year_df = pd.read_csv('CSV_files/DOGE_1Year_Data.csv')\n"
   ]
  },
  {
   "cell_type": "code",
   "execution_count": null,
   "id": "ba149dba-6546-42ee-88e7-d16faabdf945",
   "metadata": {},
   "outputs": [],
   "source": [
    "# Rename the \"close\" column to \"price\" in all of the csv files\n",
    "\n",
    "btc_df.rename(columns={'close': 'price'}, inplace=True) \n",
    "eth_df.rename(columns={'close': 'price'}, inplace=True) \n",
    "doge_df.rename(columns={'close': 'price'}, inplace=True) \n",
    "\n"
   ]
  },
  {
   "cell_type": "code",
   "execution_count": null,
   "id": "b398defc-fdb3-4af5-9ee8-ec124acdd3a0",
   "metadata": {},
   "outputs": [],
   "source": [
    "# Plot the \"price\" data for btc using \"time\" as the x-axis \n",
    "\n",
    "btc_df['time'] = pd.to_datetime(btc_df['time'])\n",
    "\n",
    "btc_df.set_index(\"time\", inplace = True)\n",
    "\n",
    "plt.figure(figsize=(16, 4))\n",
    "plt.plot(btc_df['price'])\n",
    "plt.title(\"Bitcoin Price Over Three Months\")\n",
    "plt.xlabel(\"Date\")\n",
    "plt.ylabel(\"Price\")\n",
    "plt.grid(True)\n",
    "plt.subplots_adjust(bottom = 0.35)\n",
    "plt.savefig('btc_price_graph.png')\n",
    "plt.show()\n"
   ]
  },
  {
   "cell_type": "code",
   "execution_count": null,
   "id": "8af100e1-5688-47cb-bdc7-8bfc798d6b40",
   "metadata": {},
   "outputs": [],
   "source": [
    "# Plot the \"price\" data for eth using \"time\" as the x-axis \n",
    "\n",
    "eth_df['time'] = pd.to_datetime(eth_df['time'])\n",
    "\n",
    "eth_df.set_index(\"time\", inplace = True)\n",
    "\n",
    "plt.figure(figsize=(16, 4))\n",
    "plt.plot(eth_df['price'], color = \"orange\")\n",
    "plt.title(\"Ethereum Price Over Three Months\")\n",
    "plt.xlabel(\"Date\")\n",
    "plt.ylabel(\"Price\")\n",
    "plt.grid(True)\n",
    "plt.subplots_adjust(bottom = 0.35)\n",
    "plt.savefig('eth_price_graph.png')\n",
    "plt.show()\n",
    "\n"
   ]
  },
  {
   "cell_type": "code",
   "execution_count": null,
   "id": "41e4e9fb-7a3d-4643-a4a0-f2e856206c8a",
   "metadata": {},
   "outputs": [],
   "source": [
    "# Plot the \"price\" data for doge using \"time\" as the x-axis \n",
    "\n",
    "doge_df['time'] = pd.to_datetime(doge_df['time'])\n",
    "\n",
    "doge_df.set_index(\"time\", inplace = True)\n",
    "\n",
    "plt.figure(figsize=(16, 4))\n",
    "plt.plot(doge_df['price'], color = \"green\")\n",
    "plt.title(\"Dogecoin Price Over Three Months\")\n",
    "plt.xlabel(\"Date\")\n",
    "plt.ylabel(\"Price\")\n",
    "plt.grid(True)\n",
    "plt.subplots_adjust(bottom = 0.35)\n",
    "plt.savefig('doge_price_graph.png')\n",
    "plt.show()\n"
   ]
  },
  {
   "cell_type": "code",
   "execution_count": null,
   "id": "0acc5b6b-c5cd-496b-adbb-21e4c308957d",
   "metadata": {},
   "outputs": [],
   "source": [
    "# Concat all three cryptocurrencies based on \"price\" and then plot into one graph.\n",
    "\n",
    "crypto_close_data_df = pd.concat([btc_df['price'], eth_df['price'], doge_df['price']], axis=1, keys=['BTC_Price', 'ETH_Price', 'DOGE_Price']).dropna()\n",
    "\n",
    "display(crypto_close_data_df.head())\n",
    "display(crypto_close_data_df.tail())\n",
    "\n",
    "plt.figure(figsize=(16, 4))\n",
    "plt.plot(crypto_close_data_df.index, crypto_close_data_df['BTC_Price'], label='Bitcoin', linestyle='-')\n",
    "plt.plot(crypto_close_data_df.index, crypto_close_data_df['ETH_Price'], label='Ethereum', linestyle='--')\n",
    "plt.plot(crypto_close_data_df.index, crypto_close_data_df['DOGE_Price'], label='Dogecoin', linestyle='-.')\n",
    "\n",
    "plt.title(\"Bitcoin, Ethereum, and Dogecoin Prices Over Time\")\n",
    "plt.xlabel(\"Date\")\n",
    "plt.ylabel(\"Price (USD)\")\n",
    "plt.yscale('log')\n",
    "plt.legend()\n",
    "plt.grid(True)\n",
    "plt.subplots_adjust(bottom = 0.35)\n",
    "plt.savefig('price_comparison_graph.png')\n",
    "plt.show()\n"
   ]
  },
  {
   "cell_type": "code",
   "execution_count": null,
   "id": "5374560e-2697-47c2-94d9-41ca876c7b2d",
   "metadata": {},
   "outputs": [],
   "source": [
    "# Plot the correlation between close price for btc, eth, doge\n",
    "\n",
    "correlation_close_data_df = crypto_close_data_df.corr()\n",
    "\n",
    "display(correlation_close_data_df)\n",
    "\n",
    "fig, ax = plt.subplots()\n",
    "ax.axis('tight')\n",
    "ax.axis('off')\n",
    "the_table = ax.table(cellText=correlation_close_data_df.values, colLabels=correlation_close_data_df.columns, rowLabels=correlation_close_data_df.index, loc='center', cellLoc='center')\n",
    "plt.savefig('correlation_table.png', bbox_inches='tight')\n",
    "plt.close()\n"
   ]
  },
  {
   "cell_type": "code",
   "execution_count": null,
   "id": "350390e9-5a8a-41ab-a72b-c52ce36f834f",
   "metadata": {},
   "outputs": [],
   "source": [
    "# Make a new dataframe that contains \"time\", \"price\" for Bitcoin\n",
    "\n",
    "btc_df_index_reset = btc_df.reset_index()\n",
    "\n",
    "display(btc_df_index_reset.head())\n",
    "\n",
    "prophet_btc_df = btc_df_index_reset[[\"time\", \"price\"]]\n",
    "\n",
    "# prophet_btc_df.set_index(\"time\", inplace = True)\n",
    "\n",
    "display(prophet_btc_df.head())"
   ]
  },
  {
   "cell_type": "code",
   "execution_count": null,
   "id": "d82a9cb8-e95c-4b51-a2ce-7cb38715f594",
   "metadata": {},
   "outputs": [],
   "source": [
    "# Prepare the btc data for Prophet\n",
    "\n",
    "prophet_btc_df.columns = [\"ds\", \"y\"]\n",
    "\n",
    "prophet_btc_df = prophet_btc_df.dropna()\n",
    "\n",
    "prophet_btc_df.head()\n"
   ]
  },
  {
   "cell_type": "code",
   "execution_count": null,
   "id": "28ed4112-b4e6-45db-b2e3-b0726fa0521f",
   "metadata": {},
   "outputs": [],
   "source": [
    "btc_prophet = Prophet()\n",
    "\n",
    "btc_prophet"
   ]
  },
  {
   "cell_type": "code",
   "execution_count": null,
   "id": "539c49bb-55d5-417f-b3d3-296d44b213e0",
   "metadata": {},
   "outputs": [],
   "source": [
    "btc_prophet.fit(prophet_btc_df)"
   ]
  },
  {
   "cell_type": "code",
   "execution_count": null,
   "id": "7cef40ba-b5cc-4d0b-a75f-725077300ac9",
   "metadata": {},
   "outputs": [],
   "source": [
    "btc_future = btc_prophet.make_future_dataframe(periods = 72, freq = 'H')\n",
    "btc_future.head()"
   ]
  },
  {
   "cell_type": "code",
   "execution_count": null,
   "id": "949864b3-eef2-4d69-86f5-db5a47ac1998",
   "metadata": {},
   "outputs": [],
   "source": [
    "btc_forecast = btc_prophet.predict(btc_future)\n",
    "display(btc_forecast.head())\n",
    "display(btc_forecast.tail())\n"
   ]
  },
  {
   "cell_type": "code",
   "execution_count": null,
   "id": "0cf2fb14-a839-4f0a-a47b-fd52c864c6d4",
   "metadata": {},
   "outputs": [],
   "source": [
    "btc_yhat_df = btc_forecast[[\"ds\", \"yhat\"]]\n",
    "\n",
    "plt.figure(figsize=(16, 4))\n",
    "plt.plot(btc_yhat_df['ds'], btc_yhat_df['yhat'], label='Predicted yhat Price')\n",
    "plt.title('Bitcoin yhat Price Prediction')\n",
    "plt.xlabel('Date')\n",
    "plt.ylabel('Predicted Price')\n",
    "plt.grid(True)\n",
    "plt.legend()\n",
    "plt.subplots_adjust(bottom = 0.35)\n",
    "plt.savefig('btc_forecast_yhat_graph.png')\n",
    "plt.show()\n",
    "\n",
    "btc_trend_df = btc_forecast[[\"ds\", \"trend\"]]\n",
    "\n",
    "plt.figure(figsize=(16, 4))\n",
    "plt.plot(btc_trend_df['ds'], btc_trend_df['trend'], label='Predicted Trend Price')\n",
    "plt.title('Bitcoin Trend Price Prediction')\n",
    "plt.xlabel('Date')\n",
    "plt.ylabel('Predicted Price')\n",
    "plt.grid(True)\n",
    "plt.legend()\n",
    "plt.show()\n"
   ]
  },
  {
   "cell_type": "code",
   "execution_count": null,
   "id": "dc3a8c9f-28f3-49d7-be14-3eeb901d0d98",
   "metadata": {},
   "outputs": [],
   "source": [
    "# Make a new dataframe that contains \"time\", \"price\" for Ethereum\n",
    "\n",
    "eth_df_index_reset = eth_df.reset_index()\n",
    "\n",
    "display(eth_df_index_reset.head())\n",
    "\n",
    "prophet_eth_df = eth_df_index_reset[[\"time\", \"price\"]]\n",
    "\n",
    "display(prophet_eth_df.head())\n"
   ]
  },
  {
   "cell_type": "code",
   "execution_count": null,
   "id": "78c57ad6-7bc5-49a8-9138-2ccd8484555b",
   "metadata": {},
   "outputs": [],
   "source": [
    "# Prepare the eth data for Prophet\n",
    "\n",
    "prophet_eth_df.columns = [\"ds\", \"y\"]\n",
    "\n",
    "prophet_eth_df = prophet_eth_df.dropna()\n",
    "\n",
    "prophet_eth_df.head()"
   ]
  },
  {
   "cell_type": "code",
   "execution_count": null,
   "id": "efa940f2-16b6-4d6a-869a-9a2663b48522",
   "metadata": {},
   "outputs": [],
   "source": [
    "# Fit the eth prophet data\n",
    "\n",
    "eth_prophet = Prophet()\n",
    "\n",
    "eth_prophet"
   ]
  },
  {
   "cell_type": "code",
   "execution_count": null,
   "id": "a1d902f8-19eb-442c-987c-91a44cf8f919",
   "metadata": {},
   "outputs": [],
   "source": [
    "eth_prophet.fit(prophet_eth_df)"
   ]
  },
  {
   "cell_type": "code",
   "execution_count": null,
   "id": "41dafdba-6899-43da-a774-59ea7529f4f3",
   "metadata": {},
   "outputs": [],
   "source": [
    "eth_future = eth_prophet.make_future_dataframe(periods = 72, freq = 'H')\n",
    "eth_future.head()"
   ]
  },
  {
   "cell_type": "code",
   "execution_count": null,
   "id": "c4de1ca9-c52c-4adf-87d9-2022a0b0bf40",
   "metadata": {},
   "outputs": [],
   "source": [
    "eth_forecast = eth_prophet.predict(btc_future)\n",
    "display(eth_forecast.head())\n",
    "display(eth_forecast.tail())\n"
   ]
  },
  {
   "cell_type": "code",
   "execution_count": null,
   "id": "2ca62bae-dfb0-4c57-84a7-ca6355e50808",
   "metadata": {},
   "outputs": [],
   "source": [
    "eth_yhat_df = eth_forecast[[\"ds\", \"yhat\"]]\n",
    "\n",
    "plt.figure(figsize=(16, 4))\n",
    "plt.plot(eth_yhat_df['ds'], eth_yhat_df['yhat'], label='Predicted yhat Price', color = \"orange\")\n",
    "plt.title('Ethereum yhat Price Prediction')\n",
    "plt.xlabel('Date')\n",
    "plt.ylabel('Predicted Price')\n",
    "plt.grid(True)\n",
    "plt.legend()\n",
    "plt.subplots_adjust(bottom = 0.35)\n",
    "plt.savefig('eth_forecast_yhat_graph.png')\n",
    "plt.show()\n",
    "\n",
    "eth_trend_df = eth_forecast[[\"ds\", \"trend\"]]\n",
    "\n",
    "plt.figure(figsize=(16, 4))\n",
    "plt.plot(eth_trend_df['ds'], eth_trend_df['trend'], label='Predicted Trend Price', color = \"orange\")\n",
    "plt.title('Ethereum Trend Price Prediction')\n",
    "plt.xlabel('Date')\n",
    "plt.ylabel('Predicted Price')\n",
    "plt.grid(True)\n",
    "plt.legend()\n",
    "plt.show()\n"
   ]
  },
  {
   "cell_type": "code",
   "execution_count": null,
   "id": "e98b23f3-eb8b-4cef-bf64-a6bd58d7f555",
   "metadata": {},
   "outputs": [],
   "source": [
    "# Make a new dataframe that contains \"time\", \"price\" for Dogecoin\n",
    "\n",
    "doge_df_index_reset = doge_df.reset_index()\n",
    "\n",
    "display(doge_df_index_reset.head())\n",
    "\n",
    "prophet_doge_df = doge_df_index_reset[[\"time\", \"price\"]]\n",
    "\n",
    "display(prophet_doge_df.head())\n"
   ]
  },
  {
   "cell_type": "code",
   "execution_count": null,
   "id": "89e4bbe1-01e1-43b1-afa5-53b7326a0898",
   "metadata": {},
   "outputs": [],
   "source": [
    "# Prepare the eth data for Prophet\n",
    "\n",
    "prophet_doge_df.columns = [\"ds\", \"y\"]\n",
    "\n",
    "prophet_doge_df = prophet_doge_df.dropna()\n",
    "\n",
    "prophet_doge_df.head()\n"
   ]
  },
  {
   "cell_type": "code",
   "execution_count": null,
   "id": "b405389b-76b7-4739-8cd2-ae409af9f280",
   "metadata": {},
   "outputs": [],
   "source": [
    "# Fit the eth prophet data\n",
    "\n",
    "doge_prophet = Prophet()\n",
    "\n",
    "doge_prophet\n"
   ]
  },
  {
   "cell_type": "code",
   "execution_count": null,
   "id": "457ca8e6-c58e-41e3-b451-3df7ce69386f",
   "metadata": {},
   "outputs": [],
   "source": [
    "doge_prophet.fit(prophet_doge_df)\n"
   ]
  },
  {
   "cell_type": "code",
   "execution_count": null,
   "id": "59a0fc4a-b7e8-4299-b3bc-c19bdacc5330",
   "metadata": {},
   "outputs": [],
   "source": [
    "doge_future = doge_prophet.make_future_dataframe(periods = 72, freq = 'H')\n",
    "doge_future.head()\n"
   ]
  },
  {
   "cell_type": "code",
   "execution_count": null,
   "id": "5b3b7397-7b20-4da0-9b89-9c151e131451",
   "metadata": {},
   "outputs": [],
   "source": [
    "doge_forecast = doge_prophet.predict(doge_future)\n",
    "display(doge_forecast.head())\n",
    "display(doge_forecast.tail())\n"
   ]
  },
  {
   "cell_type": "code",
   "execution_count": null,
   "id": "baeabf5d-e006-4b3c-8fe4-bc4716c38642",
   "metadata": {},
   "outputs": [],
   "source": [
    "doge_yhat_df = doge_forecast[[\"ds\", \"yhat\"]]\n",
    "\n",
    "plt.figure(figsize=(16, 4))\n",
    "plt.plot(doge_yhat_df['ds'], doge_yhat_df['yhat'], label='Predicted yhat Price', color = \"green\")\n",
    "plt.title('Dogecoin yhat Price Prediction')\n",
    "plt.xlabel('Date')\n",
    "plt.ylabel('Predicted Price')\n",
    "plt.grid(True)\n",
    "plt.legend()\n",
    "plt.subplots_adjust(bottom = 0.35)\n",
    "plt.savefig('doge_forecast_yhat_graph.png')\n",
    "plt.show()\n",
    "\n",
    "doge_trend_df = doge_forecast[[\"ds\", \"trend\"]]\n",
    "\n",
    "plt.figure(figsize=(16, 4))\n",
    "plt.plot(doge_trend_df['ds'], doge_trend_df['trend'], label='Predicted Trend Price', color = \"green\")\n",
    "plt.title('Dogecoin Trend Price Prediction')\n",
    "plt.xlabel('Date')\n",
    "plt.ylabel('Predicted Price')\n",
    "plt.grid(True)\n",
    "plt.legend()\n",
    "plt.show()\n"
   ]
  },
  {
   "cell_type": "code",
   "execution_count": null,
   "id": "bda0d441-ac5b-48b8-a4f1-7d2d9ecfda91",
   "metadata": {},
   "outputs": [],
   "source": [
    "# Overlay the btc yhat graph, eth yhat graph, and doge yhat graph\n",
    "\n",
    "btc_forecast.set_index('ds', inplace=True)\n",
    "eth_forecast.set_index('ds', inplace=True)\n",
    "doge_forecast.set_index('ds', inplace=True)\n",
    "\n",
    "forecast_yhat_df = pd.concat([\n",
    "    btc_forecast['yhat'].rename('BTC_yhat'), \n",
    "    eth_forecast['yhat'].rename('ETH_yhat'), \n",
    "    doge_forecast['yhat'].rename('DOGE_yhat')\n",
    "], axis=1).dropna()\n",
    "\n",
    "display(forecast_yhat_df.head())\n",
    "display(forecast_yhat_df.tail())\n"
   ]
  },
  {
   "cell_type": "code",
   "execution_count": null,
   "id": "0a657fdb-82ad-4d6f-b9f7-965813ec78e5",
   "metadata": {},
   "outputs": [],
   "source": [
    "# plot the yhat predictions\n",
    "\n",
    "forecast_yhat_graph = forecast_yhat_df['2024-03-01':'2024-05-31']\n",
    "\n",
    "plt.figure(figsize=(16, 4))\n",
    "plt.plot(forecast_yhat_graph.index, forecast_yhat_graph['BTC_yhat'], label='Bitcoin yhat', linestyle='-')\n",
    "plt.plot(forecast_yhat_graph.index, forecast_yhat_graph['ETH_yhat'], label='Ethereum yhat', linestyle='--')\n",
    "plt.plot(forecast_yhat_graph.index, forecast_yhat_graph['DOGE_yhat'], label='Dogecoin yhat', linestyle='-.')\n",
    "\n",
    "plt.title(\"Bitcoin, Ethereum, and Dogecoin yhat Values from March - May 2024\")\n",
    "plt.xlabel(\"Date\")\n",
    "plt.ylabel(\"yhat Value\")\n",
    "plt.legend()\n",
    "plt.grid(True)\n",
    "plt.subplots_adjust(bottom = 0.35)\n",
    "plt.savefig('comparison_forecast_yhat_graph.png')\n",
    "plt.show()\n",
    "\n"
   ]
  },
  {
   "cell_type": "code",
   "execution_count": null,
   "id": "10ad1c53-eef6-4641-8b28-37dddd092f20",
   "metadata": {},
   "outputs": [],
   "source": []
  }
 ],
 "metadata": {
  "kernelspec": {
   "display_name": "dev",
   "language": "python",
   "name": "dev"
  },
  "language_info": {
   "codemirror_mode": {
    "name": "ipython",
    "version": 3
   },
   "file_extension": ".py",
   "mimetype": "text/x-python",
   "name": "python",
   "nbconvert_exporter": "python",
   "pygments_lexer": "ipython3",
   "version": "3.10.13"
  }
 },
 "nbformat": 4,
 "nbformat_minor": 5
}
